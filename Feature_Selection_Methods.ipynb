{
 "cells": [
  {
   "cell_type": "code",
   "execution_count": 3,
   "metadata": {},
   "outputs": [],
   "source": [
    "%run Package.ipynb"
   ]
  },
  {
   "cell_type": "code",
   "execution_count": null,
   "metadata": {},
   "outputs": [],
   "source": [
    "def mutual_info(X,Y,select_k):\n",
    "    \n",
    "    X = pd.DataFrame(X)\n",
    "    if select_k >= 1:\n",
    "        sel_ = SelectKBest(mutual_info_classif, k=select_k).fit(X,Y)\n",
    "        col = X.columns[sel_.get_support()]\n",
    "        \n",
    "    elif 0 < select_k < 1:\n",
    "        sel_ = SelectPercentile(mutual_info_classif, percentile=select_k*100).fit(X,Y)\n",
    "        col = X.columns[sel_.get_support()]\n",
    "        \n",
    "    else:\n",
    "        raise ValueError(\"select_k must be a positive number\")\n",
    "    \n",
    "    print(col)\n",
    "    return col"
   ]
  },
  {
   "cell_type": "code",
   "execution_count": null,
   "metadata": {},
   "outputs": [],
   "source": [
    "def RFS(X,Y,estimator,select_k,step):\n",
    "    X = pd.DataFrame(X)\n",
    "    estimator = estimator\n",
    "    rfe = RFE(estimator=estimator, n_features_to_select=select_k, step=step)\n",
    "    rfe.fit(X, Y)\n",
    "    selected_feat = X.columns[(rfe.get_support())]\n",
    "    print(selected_feat)\n",
    "    return selected_feat"
   ]
  },
  {
   "cell_type": "code",
   "execution_count": null,
   "metadata": {},
   "outputs": [],
   "source": [
    "from sklearn import svm\n",
    "\n",
    "def RFE_SVM_AUC(X_train,y_train,X_test,y_test,tol):\n",
    "    \n",
    "    X_train = pd.DataFrame(X_train)\n",
    "    X_test = pd.DataFrame(X_test)\n",
    "    \n",
    "    features_to_remove = []\n",
    "    count = 1\n",
    "    # initial model using all the features\n",
    "    model_all_features = svm.SVC(kernel='linear',probability=True)\n",
    "    model_all_features.fit(X_train, y_train) \n",
    "    auc_score_all = model_all_features.score(X_test, y_test) # svm_auc_score(y_true, y_scores)\n",
    "    \n",
    "    for feature in X_train.columns:\n",
    "        print()\n",
    "        print('testing feature: ', feature, ' which is feature ', count,\n",
    "          ' out of ', len(X_train.columns))\n",
    "        count += 1\n",
    "        model = svm.SVC(kernel='linear',probability=True)\n",
    "        \n",
    "        model.fit(X_train.drop(features_to_remove + [feature], axis=1), y_train) \n",
    "        auc_score_int = model.score(X_test.drop(features_to_remove + [feature], axis=1), y_test)\n",
    "        print('New Test SVM AUC={}'.format((auc_score_int)))\n",
    "    \n",
    "        # print the original svm-auc with all the features\n",
    "        print('All features Test SVM AUC={}'.format((auc_score_all)))\n",
    "    \n",
    "        # determine the drop in the svm-auc\n",
    "        diff_auc = auc_score_all - auc_score_int\n",
    "    \n",
    "        # compare the drop in svm-auc with the tolerance\n",
    "        if diff_auc >= tol:\n",
    "            print('Drop in SVM AUC={}'.format(diff_auc))\n",
    "            print('keep: ', feature)\n",
    "            \n",
    "        else:\n",
    "            print('Drop in SVM AUC={}'.format(diff_auc))\n",
    "            print('remove: ', feature)\n",
    "            \n",
    "            # if the drop in the svm is small and we remove the\n",
    "            # feature, we need to set the new svm to the one based on\n",
    "            # the remaining features\n",
    "            auc_score_all = auc_score_int\n",
    "            \n",
    "            # and append the feature to remove to the list\n",
    "            features_to_remove.append(feature)\n",
    "    print('DONE!!')\n",
    "    print('total features to remove: ', len(features_to_remove))  \n",
    "    features_to_keep = [x for x in X_train.columns if x not in features_to_remove]\n",
    "    print('total features to keep: ', len(features_to_keep))\n",
    "    \n",
    "    return features_to_keep\n"
   ]
  }
 ],
 "metadata": {
  "kernelspec": {
   "display_name": "Python 3",
   "language": "python",
   "name": "python3"
  },
  "language_info": {
   "codemirror_mode": {
    "name": "ipython",
    "version": 3
   },
   "file_extension": ".py",
   "mimetype": "text/x-python",
   "name": "python",
   "nbconvert_exporter": "python",
   "pygments_lexer": "ipython3",
   "version": "3.7.6"
  }
 },
 "nbformat": 4,
 "nbformat_minor": 2
}
